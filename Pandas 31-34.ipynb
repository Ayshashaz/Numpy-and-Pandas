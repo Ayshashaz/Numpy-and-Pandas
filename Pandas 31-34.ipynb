{
 "cells": [
  {
   "cell_type": "code",
   "execution_count": 1,
   "id": "9af41cb1",
   "metadata": {},
   "outputs": [
    {
     "name": "stdout",
     "output_type": "stream",
     "text": [
      "Original DataFrame\n",
      "    W   X   Y   Z\n",
      "0  68  78  84  86\n",
      "1  75  85  94  97\n",
      "2  86  96  89  96\n",
      "3  80  80  83  72\n",
      "4  66  86  86  83\n",
      "\n",
      "Add prefix:\n",
      "   A_W  A_X  A_Y  A_Z\n",
      "0   68   78   84   86\n",
      "1   75   85   94   97\n",
      "2   86   96   89   96\n",
      "3   80   80   83   72\n",
      "4   66   86   86   83\n",
      "\n",
      "Add suffix:\n",
      "   W_1  X_1  Y_1  Z_1\n",
      "0   68   78   84   86\n",
      "1   75   85   94   97\n",
      "2   86   96   89   96\n",
      "3   80   80   83   72\n",
      "4   66   86   86   83\n"
     ]
    }
   ],
   "source": [
    "import pandas as pd\n",
    "\n",
    "data = {\n",
    "    'W': [68, 75, 86, 80, 66],\n",
    "    'X': [78, 85, 96, 80, 86],\n",
    "    'Y': [84, 94, 89, 83, 86],\n",
    "    'Z': [86, 97, 96, 72, 83]\n",
    "}\n",
    "\n",
    "df = pd.DataFrame(data)\n",
    "\n",
    "print(\"Original DataFrame\")\n",
    "print(df)\n",
    "\n",
    "df_prefix = df.add_prefix('A_')\n",
    "print(\"\\nAdd prefix:\")\n",
    "print(df_prefix)\n",
    "\n",
    "df_suffix = df.add_suffix('_1')\n",
    "print(\"\\nAdd suffix:\")\n",
    "print(df_suffix)\n"
   ]
  },
  {
   "cell_type": "code",
   "execution_count": 2,
   "id": "814eb04f",
   "metadata": {},
   "outputs": [
    {
     "name": "stdout",
     "output_type": "stream",
     "text": [
      "Age group:\n",
      "0      adult\n",
      "1      adult\n",
      "2    elderly\n",
      "3      adult\n",
      "4    elderly\n",
      "5       kids\n",
      "Name: age_groups, dtype: category\n",
      "Categories (4, object): ['kids' < 'teen' < 'adult' < 'elderly']\n"
     ]
    }
   ],
   "source": [
    "import pandas as pd\n",
    "\n",
    "data = {\n",
    "    'name': ['Alberto Franco', 'Gino Mcneill', 'Ryan Parkes', 'Eesha Hinton', 'Syed Wharton', 'Kierra Gentry'],\n",
    "    'age': [18, 22, 85, 50, 80, 5]\n",
    "}\n",
    "\n",
    "df = pd.DataFrame(data)\n",
    "\n",
    "\n",
    "bins = [0, 12, 18, 65, float('inf')] \n",
    "labels = ['kids', 'teen', 'adult', 'elderly']\n",
    "\n",
    "df['age_groups'] = pd.cut(df['age'], bins=bins, labels=labels, right=False)\n",
    "\n",
    "print(\"Age group:\")\n",
    "print(df['age_groups'])\n"
   ]
  },
  {
   "cell_type": "code",
   "execution_count": 3,
   "id": "01f4b932",
   "metadata": {},
   "outputs": [
    {
     "name": "stdout",
     "output_type": "stream",
     "text": [
      "Existing DataFrame:\n",
      "  student_id              name  marks\n",
      "0         S1  Danniella Fenton    200\n",
      "1         S2      Ryder Storey    210\n",
      "2         S3      Bryce Jensen    190\n",
      "3         S4         Ed Bernal    222\n",
      "4         S5       Kwame Morin    199\n",
      "\n",
      "Combined DataFrame:\n",
      "  student_id              name  marks\n",
      "0         S1  Danniella Fenton    200\n",
      "1         S2      Ryder Storey    210\n",
      "2         S3      Bryce Jensen    190\n",
      "3         S4         Ed Bernal    222\n",
      "4         S5       Kwame Morin    199\n",
      "5         S6  Scarlette Fisher    205\n"
     ]
    },
    {
     "name": "stderr",
     "output_type": "stream",
     "text": [
      "/var/folders/tt/2tsxcy9n2zg3f5zz2fx8m0200000gn/T/ipykernel_7729/105850748.py:18: FutureWarning: The frame.append method is deprecated and will be removed from pandas in a future version. Use pandas.concat instead.\n",
      "  combined_data = student_data1.append(new_row, ignore_index=True)\n"
     ]
    }
   ],
   "source": [
    "import pandas as pd\n",
    "\n",
    "student_data1 = pd.DataFrame({\n",
    "    'student_id': ['S1', 'S2', 'S3', 'S4', 'S5'],\n",
    "    'name': ['Danniella Fenton', 'Ryder Storey', 'Bryce Jensen', 'Ed Bernal', 'Kwame Morin'],\n",
    "    'marks': [200, 210, 190, 222, 199]\n",
    "})\n",
    "\n",
    "print(\"Existing DataFrame:\")\n",
    "print(student_data1)\n",
    "\n",
    "new_row = pd.DataFrame({\n",
    "    'student_id': ['S6'],\n",
    "    'name': ['Scarlette Fisher'],\n",
    "    'marks': [205]\n",
    "})\n",
    "\n",
    "combined_data = student_data1.append(new_row, ignore_index=True)\n",
    "print(\"\\nCombined DataFrame:\")\n",
    "print(combined_data)\n"
   ]
  },
  {
   "cell_type": "code",
   "execution_count": 4,
   "id": "8d2177be",
   "metadata": {},
   "outputs": [
    {
     "name": "stdout",
     "output_type": "stream",
     "text": [
      "Combined Student Data:\n",
      "  student_id              name  marks\n",
      "0         S1  Danniella Fenton    200\n",
      "1         S2      Ryder Storey    210\n",
      "2         S3      Bryce Jensen    190\n",
      "3         S4         Ed Bernal    222\n",
      "4         S5       Kwame Morin    199\n",
      "5         S4  Scarlette Fisher    201\n",
      "6         S5  Carla Williamson    200\n",
      "7         S6       Dante Morse    198\n",
      "8         S7    Kaiser William    219\n",
      "9         S8   Madeeha Preston    201\n",
      "\n",
      "Merged Data with Exam Data:\n",
      "  student_id              name  marks  exam_id\n",
      "0         S1  Danniella Fenton    200     23.0\n",
      "1         S2      Ryder Storey    210     45.0\n",
      "2         S3      Bryce Jensen    190     12.0\n",
      "3         S4         Ed Bernal    222     67.0\n",
      "4         S5       Kwame Morin    199     21.0\n",
      "5         S4  Scarlette Fisher    201     67.0\n",
      "6         S5  Carla Williamson    200     21.0\n",
      "7         S6       Dante Morse    198      NaN\n",
      "8         S7    Kaiser William    219     55.0\n",
      "9         S8   Madeeha Preston    201     33.0\n"
     ]
    }
   ],
   "source": [
    "import pandas as pd\n",
    "\n",
    "student_data1 = pd.DataFrame({\n",
    "    'student_id': ['S1', 'S2', 'S3', 'S4', 'S5'],\n",
    "    'name': ['Danniella Fenton', 'Ryder Storey', 'Bryce Jensen', 'Ed Bernal', 'Kwame Morin'],\n",
    "    'marks': [200, 210, 190, 222, 199]\n",
    "})\n",
    "\n",
    "student_data2 = pd.DataFrame({\n",
    "    'student_id': ['S4', 'S5', 'S6', 'S7', 'S8'],\n",
    "    'name': ['Scarlette Fisher', 'Carla Williamson', 'Dante Morse', 'Kaiser William', 'Madeeha Preston'],\n",
    "    'marks': [201, 200, 198, 219, 201]\n",
    "})\n",
    "\n",
    "exam_data = pd.DataFrame({\n",
    "    'student_id': ['S1', 'S2', 'S3', 'S4', 'S5', 'S7', 'S8', 'S9', 'S10', 'S11', 'S12', 'S13'],\n",
    "    'exam_id': [23, 45, 12, 67, 21, 55, 33, 14, 56, 83, 88, 12]\n",
    "})\n",
    "\n",
    "combined_student_data = pd.concat([student_data1, student_data2], ignore_index=True)\n",
    "\n",
    "print(\"Combined Student Data:\")\n",
    "print(combined_student_data)\n",
    "\n",
    "merged_data = pd.merge(combined_student_data, exam_data, on='student_id', how='left')\n",
    "\n",
    "print(\"\\nMerged Data with Exam Data:\")\n",
    "print(merged_data)\n"
   ]
  },
  {
   "cell_type": "code",
   "execution_count": null,
   "id": "9b2ba124",
   "metadata": {},
   "outputs": [],
   "source": []
  }
 ],
 "metadata": {
  "kernelspec": {
   "display_name": "Python 3 (ipykernel)",
   "language": "python",
   "name": "python3"
  },
  "language_info": {
   "codemirror_mode": {
    "name": "ipython",
    "version": 3
   },
   "file_extension": ".py",
   "mimetype": "text/x-python",
   "name": "python",
   "nbconvert_exporter": "python",
   "pygments_lexer": "ipython3",
   "version": "3.9.12"
  }
 },
 "nbformat": 4,
 "nbformat_minor": 5
}

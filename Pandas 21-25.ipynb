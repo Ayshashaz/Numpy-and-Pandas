{
 "cells": [
  {
   "cell_type": "code",
   "execution_count": 1,
   "id": "db507a2d",
   "metadata": {},
   "outputs": [
    {
     "name": "stdout",
     "output_type": "stream",
     "text": [
      "Original DataFrame\n",
      "   attempts       name qualify  score\n",
      "0         1  Anastasia     yes   12.5\n",
      "1         3       Dima      no    9.0\n",
      "2         2  Katherine     yes   16.5\n",
      "3         3      James      no    NaN\n",
      "4         2      Emily      no    9.0\n",
      "5         3    Michael     yes   20.0\n",
      "6         1    Matthew     yes   14.5\n",
      "7         1      Laura      no    NaN\n",
      "8         2      Kevin      no    8.0\n",
      "9         1      Jonas     yes   19.0\n",
      "\n",
      "Number of NaN values in one or more columns:\n",
      "2\n"
     ]
    }
   ],
   "source": [
    "import pandas as pd\n",
    "import numpy as np\n",
    "\n",
    "data = {\n",
    "    'attempts': [1, 3, 2, 3, 2, 3, 1, 1, 2, 1],\n",
    "    'name': ['Anastasia', 'Dima', 'Katherine', 'James', 'Emily', 'Michael', 'Matthew', 'Laura', 'Kevin', 'Jonas'],\n",
    "    'qualify': ['yes', 'no', 'yes', 'no', 'no', 'yes', 'yes', 'no', 'no', 'yes'],\n",
    "    'score': [12.5, 9.0, 16.5, np.nan, 9.0, 20.0, 14.5, np.nan, 8.0, 19.0]\n",
    "}\n",
    "\n",
    "df = pd.DataFrame(data)\n",
    "\n",
    "\n",
    "print(\"Original DataFrame\")\n",
    "print(df)\n",
    "\n",
    "\n",
    "nan_count = df.isna().sum().sum()\n",
    "\n",
    "print(\"\\nNumber of NaN values in one or more columns:\")\n",
    "print(nan_count)\n"
   ]
  },
  {
   "cell_type": "code",
   "execution_count": 2,
   "id": "108b0c17",
   "metadata": {},
   "outputs": [
    {
     "name": "stdout",
     "output_type": "stream",
     "text": [
      "Original DataFrame\n",
      "   col1  col2  col3\n",
      "0     1     4     7\n",
      "1     4     5     8\n",
      "2     3     6     9\n",
      "3     4     7     0\n",
      "4     5     8     1\n",
      "\n",
      "New DataFrame after removing 2nd & 4th rows:\n",
      "   col1  col2  col3\n",
      "0     1     4     7\n",
      "1     4     5     8\n",
      "2     4     7     0\n"
     ]
    }
   ],
   "source": [
    "import pandas as pd\n",
    "\n",
    "data = {\n",
    "    'col1': [1, 4, 3, 4, 5],\n",
    "    'col2': [4, 5, 6, 7, 8],\n",
    "    'col3': [7, 8, 9, 0, 1]\n",
    "}\n",
    "\n",
    "df = pd.DataFrame(data)\n",
    "\n",
    "print(\"Original DataFrame\")\n",
    "print(df)\n",
    "\n",
    "rows_to_drop = [2, 4]\n",
    "\n",
    "new_df = df.drop(rows_to_drop)\n",
    "\n",
    "new_df = new_df.reset_index(drop=True)\n",
    "\n",
    "print(\"\\nNew DataFrame after removing 2nd & 4th rows:\")\n",
    "print(new_df)\n"
   ]
  },
  {
   "cell_type": "code",
   "execution_count": 3,
   "id": "ecffdce0",
   "metadata": {},
   "outputs": [
    {
     "name": "stdout",
     "output_type": "stream",
     "text": [
      "String Date:\n",
      "0    3/11/2000\n",
      "1    3/12/2000\n",
      "2    3/13/2000\n",
      "Name: Date, dtype: object\n",
      "\n",
      "Original DataFrame (string to datetime):\n",
      "        Date\n",
      "0 2000-03-11\n",
      "1 2000-03-12\n",
      "2 2000-03-13\n"
     ]
    }
   ],
   "source": [
    "import pandas as pd\n",
    "\n",
    "data = {'Date': ['3/11/2000', '3/12/2000', '3/13/2000']}\n",
    "\n",
    "df = pd.DataFrame(data)\n",
    "\n",
    "print(\"String Date:\")\n",
    "print(df['Date'])\n",
    "\n",
    "df['Date'] = pd.to_datetime(df['Date'])\n",
    "\n",
    "print(\"\\nOriginal DataFrame (string to datetime):\")\n",
    "print(df)\n"
   ]
  },
  {
   "cell_type": "code",
   "execution_count": 4,
   "id": "1de98468",
   "metadata": {},
   "outputs": [
    {
     "name": "stdout",
     "output_type": "stream",
     "text": [
      "Original DataFrame\n",
      "   col1  col2  col3\n",
      "0     1     4     7\n",
      "1     2     5     8\n",
      "2     3     6    12\n",
      "3     4     9     1\n",
      "4     7     5    11\n",
      "Row where col1 has maximum value:\n",
      "4\n",
      "Row where col2 has maximum value:\n",
      "3\n",
      "Row where col3 has maximum value:\n",
      "2\n"
     ]
    }
   ],
   "source": [
    "import pandas as pd\n",
    "\n",
    "data = {\n",
    "    'col1': [1, 2, 3, 4, 7],\n",
    "    'col2': [4, 5, 6, 9, 5],\n",
    "    'col3': [7, 8, 12, 1, 11]\n",
    "}\n",
    "\n",
    "df = pd.DataFrame(data)\n",
    "\n",
    "print(\"Original DataFrame\")\n",
    "print(df)\n",
    "\n",
    "def find_max_row(df, column_name):\n",
    "    return df[column_name].idxmax()\n",
    "\n",
    "for column in df.columns:\n",
    "    max_row_index = find_max_row(df, column)\n",
    "    print(f\"Row where {column} has maximum value:\")\n",
    "    print(max_row_index)\n"
   ]
  },
  {
   "cell_type": "code",
   "execution_count": 5,
   "id": "d408f6c0",
   "metadata": {},
   "outputs": [
    {
     "name": "stdout",
     "output_type": "stream",
     "text": [
      "Original DataFrame:\n",
      "   attempts       name qualify  score\n",
      "0         1  Anastasia     yes   12.5\n",
      "1         3       Dima      no    9.0\n",
      "2         2  Katherine     yes   16.5\n",
      "3         3      James      no    NaN\n",
      "4         2      Emily      no    9.0\n",
      "5         3    Michael     yes   20.0\n",
      "6         1    Matthew     yes   14.5\n",
      "7         1      Laura      no    NaN\n",
      "8         2      Kevin      no    8.0\n",
      "9         1      Jonas     yes   19.0\n",
      "\n",
      "Data types of the columns of the said DataFrame:\n",
      "attempts      int64\n",
      "name         object\n",
      "qualify      object\n",
      "score       float64\n",
      "dtype: object\n"
     ]
    }
   ],
   "source": [
    "import pandas as pd\n",
    "import numpy as np\n",
    "\n",
    "data = {\n",
    "    'attempts': [1, 3, 2, 3, 2, 3, 1, 1, 2, 1],\n",
    "    'name': ['Anastasia', 'Dima', 'Katherine', 'James', 'Emily', 'Michael', 'Matthew', 'Laura', 'Kevin', 'Jonas'],\n",
    "    'qualify': ['yes', 'no', 'yes', 'no', 'no', 'yes', 'yes', 'no', 'no', 'yes'],\n",
    "    'score': [12.5, 9.0, 16.5, np.nan, 9.0, 20.0, 14.5, np.nan, 8.0, 19.0]\n",
    "}\n",
    "\n",
    "df = pd.DataFrame(data)\n",
    "\n",
    "print(\"Original DataFrame:\")\n",
    "print(df)\n",
    "\n",
    "data_types = df.dtypes\n",
    "\n",
    "print(\"\\nData types of the columns of the said DataFrame:\")\n",
    "print(data_types)\n"
   ]
  },
  {
   "cell_type": "code",
   "execution_count": null,
   "id": "15187837",
   "metadata": {},
   "outputs": [],
   "source": []
  }
 ],
 "metadata": {
  "kernelspec": {
   "display_name": "Python 3 (ipykernel)",
   "language": "python",
   "name": "python3"
  },
  "language_info": {
   "codemirror_mode": {
    "name": "ipython",
    "version": 3
   },
   "file_extension": ".py",
   "mimetype": "text/x-python",
   "name": "python",
   "nbconvert_exporter": "python",
   "pygments_lexer": "ipython3",
   "version": "3.9.12"
  }
 },
 "nbformat": 4,
 "nbformat_minor": 5
}

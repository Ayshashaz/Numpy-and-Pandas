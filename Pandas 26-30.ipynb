{
 "cells": [
  {
   "cell_type": "code",
   "execution_count": 1,
   "id": "fc258a39",
   "metadata": {},
   "outputs": [
    {
     "name": "stdout",
     "output_type": "stream",
     "text": [
      "Original DataFrame\n",
      "  col1  col2\n",
      "0   C1     1\n",
      "1   C1     2\n",
      "2   C2     3\n",
      "3   C2     3\n",
      "4   C2     4\n",
      "5   C3     6\n",
      "6   C2     5\n",
      "\n",
      "Group on the col1:\n",
      "col1\n",
      "C1          [1, 2]\n",
      "C2    [3, 3, 4, 5]\n",
      "C3             [6]\n",
      "Name: col2, dtype: object\n"
     ]
    }
   ],
   "source": [
    "import pandas as pd\n",
    "\n",
    "data = {\n",
    "    'col1': ['C1', 'C1', 'C2', 'C2', 'C2', 'C3', 'C2'],\n",
    "    'col2': [1, 2, 3, 3, 4, 6, 5]\n",
    "}\n",
    "\n",
    "df = pd.DataFrame(data)\n",
    "\n",
    "print(\"Original DataFrame\")\n",
    "print(df)\n",
    "\n",
    "grouped = df.groupby('col1')['col2'].apply(list)\n",
    "\n",
    "print(\"\\nGroup on the col1:\")\n",
    "print(grouped)\n"
   ]
  },
  {
   "cell_type": "code",
   "execution_count": 2,
   "id": "d806d5ed",
   "metadata": {},
   "outputs": [
    {
     "name": "stdout",
     "output_type": "stream",
     "text": [
      "Original DataFrame\n",
      "   col1  col2  col3\n",
      "0     1     4     7\n",
      "1     2     5     8\n",
      "2     3     6    12\n",
      "3     4     9     1\n",
      "4     7     5    11\n",
      "\n",
      "Number of columns:\n",
      "3\n"
     ]
    }
   ],
   "source": [
    "import pandas as pd\n",
    "\n",
    "\n",
    "data = {\n",
    "    'col1': [1, 2, 3, 4, 7],\n",
    "    'col2': [4, 5, 6, 9, 5],\n",
    "    'col3': [7, 8, 12, 1, 11]\n",
    "}\n",
    "\n",
    "df = pd.DataFrame(data)\n",
    "\n",
    "print(\"Original DataFrame\")\n",
    "print(df)\n",
    "\n",
    "num_columns = len(df.columns)\n",
    "\n",
    "print(\"\\nNumber of columns:\")\n",
    "print(num_columns)\n"
   ]
  },
  {
   "cell_type": "code",
   "execution_count": 3,
   "id": "3d5c1e35",
   "metadata": {},
   "outputs": [
    {
     "name": "stdout",
     "output_type": "stream",
     "text": [
      "Original DataFrame\n",
      "   col1  col2  col3\n",
      "0     1     4     7\n",
      "1     2     5     5\n",
      "2     3     6     8\n",
      "3     4     9    12\n",
      "4     7     5     1\n",
      "5    11     0    11\n",
      "\n",
      "First 3 rows of the said DataFrame:\n",
      "   col1  col2  col3\n",
      "0     1     4     7\n",
      "1     2     5     5\n",
      "2     3     6     8\n"
     ]
    }
   ],
   "source": [
    "import pandas as pd\n",
    "\n",
    "data = {\n",
    "    'col1': [1, 2, 3, 4, 7, 11],\n",
    "    'col2': [4, 5, 6, 9, 5, 0],\n",
    "    'col3': [7, 5, 8, 12, 1, 11]\n",
    "}\n",
    "\n",
    "df = pd.DataFrame(data)\n",
    "\n",
    "print(\"Original DataFrame\")\n",
    "print(df)\n",
    "\n",
    "n = 3\n",
    "\n",
    "first_n_records = df.head(n)\n",
    "\n",
    "print(f\"\\nFirst {n} rows of the said DataFrame:\")\n",
    "print(first_n_records)\n"
   ]
  },
  {
   "cell_type": "code",
   "execution_count": 4,
   "id": "f065cdaa",
   "metadata": {},
   "outputs": [
    {
     "name": "stdout",
     "output_type": "stream",
     "text": [
      "Original DataFrame\n",
      "   col1  col2  col3\n",
      "0     1     4     7\n",
      "1     2     5     5\n",
      "2     3     6     8\n",
      "3     4     9    12\n",
      "4     7     5     1\n",
      "5    11     0    11\n",
      "\n",
      "Last 3 rows of the said DataFrame:\n",
      "   col1  col2  col3\n",
      "3     4     9    12\n",
      "4     7     5     1\n",
      "5    11     0    11\n"
     ]
    }
   ],
   "source": [
    "import pandas as pd\n",
    "\n",
    "data = {\n",
    "    'col1': [1, 2, 3, 4, 7, 11],\n",
    "    'col2': [4, 5, 6, 9, 5, 0],\n",
    "    'col3': [7, 5, 8, 12, 1, 11]\n",
    "}\n",
    "\n",
    "df = pd.DataFrame(data)\n",
    "\n",
    "print(\"Original DataFrame\")\n",
    "print(df)\n",
    "\n",
    "n = 3\n",
    "\n",
    "last_n_records = df.tail(n)\n",
    "\n",
    "print(f\"\\nLast {n} rows of the said DataFrame:\")\n",
    "print(last_n_records)\n"
   ]
  },
  {
   "cell_type": "code",
   "execution_count": 5,
   "id": "232c3ea7",
   "metadata": {},
   "outputs": [
    {
     "name": "stdout",
     "output_type": "stream",
     "text": [
      "Original DataFrame\n",
      "   col1  col2  col3\n",
      "0     1     4     7\n",
      "1     2     5     5\n",
      "2     3     6     8\n",
      "3     4     9    12\n",
      "4     7     5     1\n",
      "5    11     0    11\n",
      "\n",
      "Topmost 3 records within each group of a DataFrame:\n",
      "   col1  col2  col3\n",
      "0     1     4     7\n",
      "1     2     5     5\n",
      "2     3     6     8\n",
      "3     4     9    12\n",
      "4     7     5     1\n",
      "5    11     0    11\n"
     ]
    }
   ],
   "source": [
    "import pandas as pd\n",
    "\n",
    "data = {\n",
    "    'col1': [1, 2, 3, 4, 7, 11],\n",
    "    'col2': [4, 5, 6, 9, 5, 0],\n",
    "    'col3': [7, 5, 8, 12, 1, 11]\n",
    "}\n",
    "\n",
    "df = pd.DataFrame(data)\n",
    "\n",
    "print(\"Original DataFrame\")\n",
    "print(df)\n",
    "\n",
    "\n",
    "n = 3\n",
    "\n",
    "top_n_records = df.groupby('col1').head(n)\n",
    "\n",
    "print(f\"\\nTopmost {n} records within each group of a DataFrame:\")\n",
    "print(top_n_records)\n"
   ]
  },
  {
   "cell_type": "code",
   "execution_count": null,
   "id": "9a3842a7",
   "metadata": {},
   "outputs": [],
   "source": []
  }
 ],
 "metadata": {
  "kernelspec": {
   "display_name": "Python 3 (ipykernel)",
   "language": "python",
   "name": "python3"
  },
  "language_info": {
   "codemirror_mode": {
    "name": "ipython",
    "version": 3
   },
   "file_extension": ".py",
   "mimetype": "text/x-python",
   "name": "python",
   "nbconvert_exporter": "python",
   "pygments_lexer": "ipython3",
   "version": "3.9.12"
  }
 },
 "nbformat": 4,
 "nbformat_minor": 5
}
